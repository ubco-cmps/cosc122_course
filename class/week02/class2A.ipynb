{
 "cells": [
  {
   "cell_type": "markdown",
   "metadata": {
    "slideshow": {
     "slide_type": "slide"
    }
   },
   "source": [
    "# Class 2A - The Terminal"
   ]
  },
  {
   "cell_type": "markdown",
   "metadata": {
    "slideshow": {
     "slide_type": "skip"
    },
    "tags": [
     "remove-cell"
    ]
   },
   "source": [
    "## Code required for Jupyter RISE\n",
    "\n",
    "\n",
    "### RISE Template"
   ]
  },
  {
   "cell_type": "code",
   "execution_count": 1,
   "metadata": {
    "slideshow": {
     "slide_type": "skip"
    },
    "tags": [
     "hide-cell"
    ]
   },
   "outputs": [],
   "source": [
    "from traitlets.config.manager import BaseJSONConfigManager\n",
    "from pathlib import Path\n",
    "path = Path.home() / \".jupyter\" / \"nbconfig\"\n",
    "cm = BaseJSONConfigManager(config_dir=str(path))\n",
    "tmp = cm.update(\n",
    "        \"rise\",\n",
    "        {\n",
    "            \"theme\": \"sky\", # https://revealjs.com/themes/\n",
    "            \"transition\": \"fade\",\n",
    "            \"start_slideshow_at\": \"selected\",\n",
    "            \"autolaunch\": False,\n",
    "            \"width\": \"100%\",\n",
    "            \"height\": \"100%\",\n",
    "            \"header\": \"\",\n",
    "            \"footer\":\"\",\n",
    "            \"scroll\": True,\n",
    "            \"enable_chalkboard\": True,\n",
    "            \"slideNumber\": True,\n",
    "            \"center\": False,\n",
    "            \"controlsLayout\": \"edges\",\n",
    "            \"slideNumber\": True,\n",
    "            \"hash\": True,\n",
    "        }\n",
    "    )"
   ]
  },
  {
   "cell_type": "markdown",
   "metadata": {
    "slideshow": {
     "slide_type": "slide"
    }
   },
   "source": [
    "## Lecture Outline"
   ]
  },
  {
   "cell_type": "markdown",
   "metadata": {
    "slideshow": {
     "slide_type": "fragment"
    }
   },
   "source": [
    "1. The Command Line (50 mins)"
   ]
  },
  {
   "cell_type": "markdown",
   "metadata": {
    "slideshow": {
     "slide_type": "fragment"
    }
   },
   "source": [
    "2. Live Demo and Practice (10 mins)"
   ]
  },
  {
   "cell_type": "markdown",
   "metadata": {
    "slideshow": {
     "slide_type": "fragment"
    }
   },
   "source": [
    "3. Preview of next week (10 mins)"
   ]
  },
  {
   "cell_type": "markdown",
   "metadata": {
    "slideshow": {
     "slide_type": "slide"
    }
   },
   "source": [
    "## Announcements"
   ]
  },
  {
   "cell_type": "markdown",
   "metadata": {
    "slideshow": {
     "slide_type": "fragment"
    }
   },
   "source": [
    "- Reminder: Test 0 will be available from Thursday 6 PM until Saturday at 6 PM"
   ]
  },
  {
   "cell_type": "markdown",
   "metadata": {
    "slideshow": {
     "slide_type": "fragment"
    }
   },
   "source": [
    "- My student hours will be Thursdays from 12:30 - 1:30 after class"
   ]
  },
  {
   "cell_type": "markdown",
   "metadata": {
    "slideshow": {
     "slide_type": "fragment"
    }
   },
   "source": [
    "- TA student hours will be posted today (first one is today for 4PM)"
   ]
  },
  {
   "cell_type": "markdown",
   "metadata": {
    "slideshow": {
     "slide_type": "slide"
    }
   },
   "source": [
    "## The Command Line"
   ]
  },
  {
   "cell_type": "markdown",
   "metadata": {
    "slideshow": {
     "slide_type": "fragment"
    }
   },
   "source": [
    "If you would like some additional notes and a much deeper explanation of the command line, I suggest the notes from [Software Carpentry](https://swcarpentry.github.io/shell-novice/)! They are truly excellent.\n",
    "In particular, I suggest \"Introducing the shell\", \"Navigating Files and Directories\", and \"Working with Files and Directories\"."
   ]
  },
  {
   "cell_type": "markdown",
   "metadata": {
    "slideshow": {
     "slide_type": "subslide"
    }
   },
   "source": [
    "### What is the Command Line?\n",
    "\n",
    "The <b>command line </b>is the text interface to the computer that accepts commands that the computer will execute. These commands include:\n",
    "- starting programs\n",
    "- navigating directories and manipulating files \n",
    "- searching, sorting, and editing text files \n",
    "- system and environment configuration"
   ]
  },
  {
   "cell_type": "markdown",
   "metadata": {
    "slideshow": {
     "slide_type": "subslide"
    }
   },
   "source": [
    "### Why learn command line?\n",
    "\n",
    "The command line is the text interface to the computer.\n",
    "Understanding the command line allows you to interact with the computer in ways that you often cannot with the graphical user interface (GUI).\n",
    "\n",
    "The command line is commonly used for scripting and automation of tasks and when accessing remote systems.\n",
    "It will also be useful to run programs that make use of the command line (eg. github)."
   ]
  },
  {
   "cell_type": "markdown",
   "metadata": {
    "slideshow": {
     "slide_type": "subslide"
    }
   },
   "source": [
    "### Why use command line?\n",
    "The command line is part of the operating system (OS), which is software that manages your computer including all devices and programs.\n",
    "\n",
    "- Common operating systems include Windows, Mac OS, and Linux/Unix.\n",
    "- Some commands will be OS specific\n",
    "\n",
    "You might be wondering why we would ever prefer command line over using the graphical user interface (GUI).\n",
    "- Certain tools may only be available to command line. \n",
    "- Sometimes command line is faster.\n",
    " "
   ]
  },
  {
   "cell_type": "markdown",
   "metadata": {
    "slideshow": {
     "slide_type": "subslide"
    }
   },
   "source": [
    "### Command Line on Windows\n",
    "\n",
    "The command line on Windows dates back to the original Microsoft operating system called DOS (Disk Operating System) in 1981.\n",
    "\n",
    "This command line interface is still part of all modern Windows operating systems and is accessible as the \"Command Prompt\".\n",
    "\n",
    "**I am recommending you use GitBash instead of the default Windows Command Prompt.**\n",
    "\n"
   ]
  },
  {
   "cell_type": "markdown",
   "metadata": {
    "slideshow": {
     "slide_type": "slide"
    }
   },
   "source": [
    "### Windows Terminal\n",
    "\n",
    "This is what the GitBash \"Terminal\" looks like. From here on out, whenever we say \"Terminal\", we mean \"GitBash on Windows\", \"Terminal on macOS and Ubuntu\"\n",
    "\n",
    "<img src=\"https://gitforwindows.org/img/gw1.png\" alt=\"CommandPrompt\" width=\"900px\" >"
   ]
  },
  {
   "cell_type": "markdown",
   "metadata": {
    "slideshow": {
     "slide_type": "subslide"
    }
   },
   "source": [
    "- The directory separator is a forward slash `/` for Macs/Ubuntu, and the opposite pointing slash on Windows `\\`\n",
    "- However if you use GitBash, this should preserve your sanity and you should be able to use forward slash on Windows as well\n",
    "- In fact, many of the macOS/Ubuntu commands will also work in GitBash, but for completeness we will also share the other commands\n",
    "\n",
    "Image source: [Git for windows](https://gitforwindows.org)"
   ]
  },
  {
   "cell_type": "markdown",
   "metadata": {
    "slideshow": {
     "slide_type": "subslide"
    }
   },
   "source": [
    "### Mac OS Command Line\n",
    "The command line for Mac OS uses the same commands as Linux. It can be opened using Finder then Utilities then Terminal.\n",
    "\n",
    "<img src=\"week01_images/Terminal.png\" alt=\"CommandPrompt\" width=\"900px\" >\n",
    "\n",
    "Alternatively, we could type Cmd + spacebar (Windows + R on Windows), then type “Terminal\" and press ENTER"
   ]
  },
  {
   "cell_type": "markdown",
   "metadata": {
    "slideshow": {
     "slide_type": "subslide"
    }
   },
   "source": [
    "### Entering Commands\n",
    "Enter a command at a prompt. The prompt may be a > or a $ or customized by the user.\n",
    "\n",
    "Press ENTER to execute the command.\n",
    "\n",
    "On Windows, commands are mostly case-insensitive while on Mac/Linux they are case-sensitive.\n",
    "\n",
    "<img src=\"week01_images/running_commands.png\" alt=\"Running commands CommandPrompt\" width=\"900px\" >\n"
   ]
  },
  {
   "cell_type": "markdown",
   "metadata": {
    "slideshow": {
     "slide_type": "subslide"
    }
   },
   "source": [
    "### File System\n",
    "The file system organizes data on a device as a hierarchy of directories and files (like a tree).\n",
    "Each folder (AKA directory) has a name and can contain any number of files or subdirectories.\n",
    "Each file has a name.\n",
    "The user can change (navigate) directories in the hierarchy.\n",
    "\n",
    "<img src=\"week01_images/filesystem.png\" alt=\"File System\" width=\"500px\" >\n"
   ]
  },
  {
   "cell_type": "markdown",
   "metadata": {
    "slideshow": {
     "slide_type": "subslide"
    }
   },
   "source": [
    "### File System\n",
    "The tree is rooted at, well, the root.\n",
    "- There is only one root of a directory hierarchy.\n",
    "Every item in the tree is either a file or a directory (AKA folder).\n",
    "- You can think of a directory as a container that may contains files and/or other directories.\n",
    "- Files on the other hand hold information (and cannot contain other files or directories) .\n",
    "\n",
    "If directoryC is contained in directoryP, then directoryC is a child of directoryP and directoryP is said to be the parent to directoryC.\n",
    "- A directory may have many children, but can only have one parent."
   ]
  },
  {
   "cell_type": "markdown",
   "metadata": {
    "slideshow": {
     "slide_type": "subslide"
    }
   },
   "source": [
    "### Absolute versus Relative Path\n",
    "\n",
    "- The root of the file system is the directory \"/\" \n",
    "- There is only one root of a directory hierarchy.\n",
    "- A path to a new location (from your current location) can be specified as an absolute path from the root (this will work no matter where we are in the file system):\n",
    "\n"
   ]
  },
  {
   "cell_type": "markdown",
   "metadata": {
    "slideshow": {
     "slide_type": "subslide"
    }
   },
   "source": [
    "### Navigating relative paths\n",
    "\n",
    "- `.` is the short-form for the current directory\n",
    "- `..` signifies the parent directory (akin to pressing Cmnd +↑\n",
    "on a Mac)\n",
    "- For example, to navigate (i.e. change directories) to the parent directory of the current directory, use the command:\n",
    "     cd ..\n",
    "- Note that this command is dependant on your current directory (i.e. the folder you are currently in).\n",
    "```text\n",
    "pwd/cd\n",
    "To print your current working directory type pwd/cd (Mac/Windows) then ENTER .\n",
    "```"
   ]
  },
  {
   "cell_type": "markdown",
   "metadata": {
    "slideshow": {
     "slide_type": "subslide"
    }
   },
   "source": [
    "#### Absolute versus Relative Path Question\n",
    "\n",
    "Consider this directory hierarchy.\n",
    "\n",
    "- The user is currently in the directory `level2`\n",
    "- The `level1` directory contains a file called `test.txt`. \n",
    "\n",
    "Which of the following statements are TRUE?\n",
    "\n",
    "1. A relative path to change to directory 301 is `..`\n",
    "2. Absolute path to `test.txt` is `/Users/ivrbik/301/level1/test.txt`\n",
    "3. Relative path to `test.txt` is ../test.txt\n",
    "4. Relative path to `test.txt` is different if user was currently in `level3` directory.\n",
    "5. There is only one root of the directory hierarchy.\n",
    "\n",
    "<img src=\"week01_images/relativepath.png\" width=\"700px\">"
   ]
  },
  {
   "cell_type": "code",
   "execution_count": 1,
   "metadata": {
    "slideshow": {
     "slide_type": "subslide"
    },
    "tags": [
     "hide-input"
    ]
   },
   "outputs": [
    {
     "data": {
      "text/markdown": [
       "#### Supplementary video on absolute vs. relative paths"
      ],
      "text/plain": [
       "<IPython.core.display.Markdown object>"
      ]
     },
     "metadata": {},
     "output_type": "display_data"
    },
    {
     "data": {
      "text/html": [
       "\n",
       "        <iframe\n",
       "            width=\"100%\"\n",
       "            height=\"500px\"\n",
       "            src=\"https://www.youtube-nocookie.com/embed/sqX6hu7oEew\"\n",
       "            frameborder=\"0\"\n",
       "            allowfullscreen\n",
       "        ></iframe>\n",
       "        "
      ],
      "text/plain": [
       "<IPython.lib.display.IFrame at 0x10d08bfa0>"
      ]
     },
     "execution_count": 1,
     "metadata": {},
     "output_type": "execute_result"
    }
   ],
   "source": [
    "from IPython.display import IFrame, Markdown\n",
    "\n",
    "display(Markdown('#### Supplementary video on absolute vs. relative paths'))\n",
    "\n",
    "IFrame('https://www.youtube-nocookie.com/embed/sqX6hu7oEew',width=\"100%\",height=\"500px\")"
   ]
  },
  {
   "cell_type": "markdown",
   "metadata": {
    "slideshow": {
     "slide_type": "subslide"
    }
   },
   "source": [
    "## Lecture Demo"
   ]
  },
  {
   "cell_type": "markdown",
   "metadata": {
    "slideshow": {
     "slide_type": "subslide"
    }
   },
   "source": [
    "### Reproduce this structure in your repository\n",
    "\n",
    "The files should be named teh same way, but you can leave them empty if you want.\n",
    "\n",
    "<img src=\"week01_images/dir.png\" width=\"350px\">\n",
    "\n",
    "You will need the following commands:\n",
    "\n",
    "- [`cd`](https://man7.org/linux/man-pages/man1/cd.1p.html) : change directory\n",
    "- [`pwd`](https://man7.org/linux/man-pages/man1/pwd.1.html) : print working directory\n",
    "- [`mkdir`](https://man7.org/linux/man-pages/man1/mkdir.1.html): make directory\n",
    "- [`ls`](https://man7.org/linux/man-pages/man1/ls.1.html): list directory contents\n",
    "- [`touch`](https://man7.org/linux/man-pages/man1/touch.1.html): create an empty file with a specific name\n",
    "- `code`: edit the file in the Visual Studio Code text editor"
   ]
  },
  {
   "cell_type": "markdown",
   "metadata": {
    "slideshow": {
     "slide_type": "subslide"
    }
   },
   "source": [
    "## Preview of next week"
   ]
  },
  {
   "cell_type": "markdown",
   "metadata": {
    "slideshow": {
     "slide_type": "fragment"
    }
   },
   "source": [
    "> Cool things with Processing."
   ]
  },
  {
   "cell_type": "markdown",
   "metadata": {
    "slideshow": {
     "slide_type": "subslide"
    }
   },
   "source": [
    "## Conclusion\n",
    "\n",
    "- The command line is the text interface to the computer that accepts commands that the computer will execute including running programs, manipulating files, and running scripts."
   ]
  },
  {
   "cell_type": "markdown",
   "metadata": {
    "slideshow": {
     "slide_type": "fragment"
    }
   },
   "source": [
    "- The command line allows for automation and more control than may be available in the user interface. It may also be the only way to interact with the machine if connecting via SSH."
   ]
  },
  {
   "cell_type": "markdown",
   "metadata": {
    "slideshow": {
     "slide_type": "fragment"
    }
   },
   "source": [
    "- The command environment allows for redirecting the standard input and output using input/output redirection and pipes."
   ]
  },
  {
   "cell_type": "markdown",
   "metadata": {
    "slideshow": {
     "slide_type": "fragment"
    }
   },
   "source": [
    "- You need to **PRACTICE PRACTICE PRACTICE** working in the Terminal: to get yourself used to it, I suggest not using the Finder/Explorer on your computer and use the Terminal for everything.\n",
    "\n",
    "    - `open` will open a file in the default application"
   ]
  },
  {
   "cell_type": "markdown",
   "metadata": {
    "slideshow": {
     "slide_type": "slide"
    }
   },
   "source": [
    "## Summary\n",
    "\n",
    "- Briefly explain components of the Install Stack\n",
    "- Define command line and list some of its uses \n",
    "- Explain the purpose of an operating system\n",
    "- Know how to open the command line window on Mac OS, Ubuntu, and Windows\n",
    "- Enter commands in the Terminal and stop them\n",
    "- Define: file system, folder, file\n",
    "- Explain the difference between an absolute and relative path \n",
    "- Use command line shortcuts to save time\n",
    "- Be able to cancel a command\n",
    "- Explain the reason for an escape symbol\n",
    "- Define and explain the purpose of environment variables. Be able to use grep to search text files.\n",
    "- Describe the full process of submitting a lab on Canvas and GitHub"
   ]
  }
 ],
 "metadata": {
  "celltoolbar": "Slideshow",
  "kernelspec": {
   "display_name": "Python 3 (ipykernel)",
   "language": "python",
   "name": "python3"
  },
  "language_info": {
   "codemirror_mode": {
    "name": "ipython",
    "version": 3
   },
   "file_extension": ".py",
   "mimetype": "text/x-python",
   "name": "python",
   "nbconvert_exporter": "python",
   "pygments_lexer": "ipython3",
   "version": "3.9.7"
  },
  "toc-autonumbering": false,
  "toc-showcode": false,
  "toc-showmarkdowntxt": false,
  "toc-showtags": true
 },
 "nbformat": 4,
 "nbformat_minor": 4
}
